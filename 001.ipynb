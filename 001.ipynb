{
 "cells": [
  {
   "cell_type": "code",
   "execution_count": 18,
   "metadata": {},
   "outputs": [
    {
     "name": "stdout",
     "output_type": "stream",
     "text": [
      "State Awal:  0\n",
      "State:  0  | c:  y  | State Baru:  0\n",
      "State:  0  | c:  u  | State Baru:  0\n",
      "State:  0  | c:  d  | State Baru:  0\n",
      "State:  0  | c:  h  | State Baru:  0\n",
      "State:  0  | c:  a  | State Baru:  0\n",
      "State:  0  | c:  @  | State Baru:  1\n",
      "State:  1  | c:  g  | State Baru:  1\n",
      "State:  1  | c:  m  | State Baru:  1\n",
      "State:  1  | c:  a  | State Baru:  1\n",
      "State:  1  | c:  i  | State Baru:  1\n",
      "State:  1  | c:  l  | State Baru:  1\n",
      "State:  1  | c:  d  | State Baru:  1\n",
      "State:  1  | c:  o  | State Baru:  1\n",
      "State:  1  | c:  t  | State Baru:  1\n",
      "State:  1  | c:  c  | State Baru:  1\n",
      "State:  1  | c:  o  | State Baru:  1\n",
      "State:  1  | c:  m  | State Baru:  1\n",
      "Email tidak valid\n"
     ]
    }
   ],
   "source": [
    "# Algorithm: Validate Email Address\n",
    "\n",
    "# Input: email - string representation of email address\n",
    "# Output: valid - boolean value indicating if the email address is valid\n",
    "\n",
    "# 1. Initialize state to 0\n",
    "# 2. For i = 0 to length(email) - 1 do:\n",
    "#     a. Set c = email[i]\n",
    "#     b. If state = 0 and c = '@', set state = 1\n",
    "#     c. Else if state = 1 and c = '.', set state = 2\n",
    "# 3. If state = 2, set valid = True, else set valid = False\n",
    "# 4. Return valid\n",
    "\n",
    "def validasi_email_state(email):\n",
    "    state = 0\n",
    "    print('State Awal: ', state)\n",
    "    for i in range(len(email)):\n",
    "        c = email[i]\n",
    "        if state == 0 and c == '@':\n",
    "            print('State: ', state, ' | c: ', c, ' | State Baru: ', 1)\n",
    "            state = 1\n",
    "        elif state == 1 and c == '.':\n",
    "            print('State: ', state, ' | c: ', c, ' | State Baru: ', 2)\n",
    "            state = 2\n",
    "        else:\n",
    "            print('State: ', state, ' | c: ', c, ' | State Baru: ', state)\n",
    "    if state == 2:\n",
    "        valid = True\n",
    "    else:\n",
    "        valid = False\n",
    "    return valid\n",
    "\n",
    "input_email = input('Masukkan email: ')\n",
    "if validasi_email_state(input_email):\n",
    "    print('Email valid')\n",
    "else:\n",
    "    print('Email tidak valid')"
   ]
  },
  {
   "cell_type": "code",
   "execution_count": 36,
   "metadata": {},
   "outputs": [
    {
     "name": "stdout",
     "output_type": "stream",
     "text": [
      "String tidak valid\n"
     ]
    }
   ],
   "source": [
    "def validasi_email_regex(s):\n",
    "    regex = \"1*0*\"\n",
    "    state = 0\n",
    "    for i in range(len(s)):\n",
    "        c = s[i]\n",
    "        if state == 0 and c == '1':\n",
    "            state = 1\n",
    "        elif state == 1 and c == '0':\n",
    "            state = 2\n",
    "        elif state == 2 and c == '0':\n",
    "            state = 2\n",
    "        \n",
    "    if state == 2:\n",
    "        return True\n",
    "    else:\n",
    "        return False\n",
    "    \n",
    "input_string = input('Masukkan string: ')\n",
    "if validasi_email_regex(input_string):\n",
    "    print('String valid')\n",
    "else:\n",
    "    print('String tidak valid')\n",
    "    \n",
    "# Beberapa Contoh String Diterima Antara Lain\n",
    "# 1. 100\n",
    "# 2. 1000\n",
    "# 3. 10000\n",
    "# 4. 1100\n",
    "# 5. 1010\n",
    "\n",
    "# Beberapa Contoh String Tidak Diterima Antara Lain\n",
    "# 1. 1\n",
    "# 2. 0\n",
    "# 3. 01\n",
    "# 4. 11"
   ]
  }
 ],
 "metadata": {
  "kernelspec": {
   "display_name": "Python 3",
   "language": "python",
   "name": "python3"
  },
  "language_info": {
   "codemirror_mode": {
    "name": "ipython",
    "version": 3
   },
   "file_extension": ".py",
   "mimetype": "text/x-python",
   "name": "python",
   "nbconvert_exporter": "python",
   "pygments_lexer": "ipython3",
   "version": "3.9.13"
  },
  "orig_nbformat": 4,
  "vscode": {
   "interpreter": {
    "hash": "3f8efe6f8c472f9f769de94b02d12f378fc577fc6207da273e460a2116b30721"
   }
  }
 },
 "nbformat": 4,
 "nbformat_minor": 2
}
